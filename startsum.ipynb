{
 "cells": [
  {
   "cell_type": "code",
   "execution_count": 1,
   "id": "91354dd2",
   "metadata": {},
   "outputs": [],
   "source": [
    "import polars as pl\n",
    "import numpy as np"
   ]
  },
  {
   "cell_type": "code",
   "execution_count": null,
   "id": "d81c3fb9",
   "metadata": {},
   "outputs": [],
   "source": []
  },
  {
   "cell_type": "code",
   "execution_count": null,
   "id": "0d981c2c",
   "metadata": {},
   "outputs": [],
   "source": []
  },
  {
   "cell_type": "code",
   "execution_count": 2,
   "id": "27e00658",
   "metadata": {},
   "outputs": [
    {
     "data": {
      "text/html": [
       "<div><style>\n",
       ".dataframe > thead > tr,\n",
       ".dataframe > tbody > tr {\n",
       "  text-align: right;\n",
       "  white-space: pre-wrap;\n",
       "}\n",
       "</style>\n",
       "<small>shape: (826, 3)</small><table border=\"1\" class=\"dataframe\"><thead><tr><th>date</th><th>week</th><th>part</th></tr><tr><td>str</td><td>i64</td><td>str</td></tr></thead><tbody><tr><td>&quot;2022-07-25&quot;</td><td>0</td><td>&quot;train&quot;</td></tr><tr><td>&quot;2022-07-26&quot;</td><td>0</td><td>&quot;train&quot;</td></tr><tr><td>&quot;2022-07-27&quot;</td><td>0</td><td>&quot;train&quot;</td></tr><tr><td>&quot;2022-07-28&quot;</td><td>0</td><td>&quot;train&quot;</td></tr><tr><td>&quot;2022-07-29&quot;</td><td>0</td><td>&quot;train&quot;</td></tr><tr><td>&hellip;</td><td>&hellip;</td><td>&hellip;</td></tr><tr><td>&quot;2024-10-23&quot;</td><td>117</td><td>&quot;private&quot;</td></tr><tr><td>&quot;2024-10-24&quot;</td><td>117</td><td>&quot;private&quot;</td></tr><tr><td>&quot;2024-10-25&quot;</td><td>117</td><td>&quot;private&quot;</td></tr><tr><td>&quot;2024-10-26&quot;</td><td>117</td><td>&quot;private&quot;</td></tr><tr><td>&quot;2024-10-27&quot;</td><td>117</td><td>&quot;private&quot;</td></tr></tbody></table></div>"
      ],
      "text/plain": [
       "shape: (826, 3)\n",
       "┌────────────┬──────┬─────────┐\n",
       "│ date       ┆ week ┆ part    │\n",
       "│ ---        ┆ ---  ┆ ---     │\n",
       "│ str        ┆ i64  ┆ str     │\n",
       "╞════════════╪══════╪═════════╡\n",
       "│ 2022-07-25 ┆ 0    ┆ train   │\n",
       "│ 2022-07-26 ┆ 0    ┆ train   │\n",
       "│ 2022-07-27 ┆ 0    ┆ train   │\n",
       "│ 2022-07-28 ┆ 0    ┆ train   │\n",
       "│ 2022-07-29 ┆ 0    ┆ train   │\n",
       "│ …          ┆ …    ┆ …       │\n",
       "│ 2024-10-23 ┆ 117  ┆ private │\n",
       "│ 2024-10-24 ┆ 117  ┆ private │\n",
       "│ 2024-10-25 ┆ 117  ┆ private │\n",
       "│ 2024-10-26 ┆ 117  ┆ private │\n",
       "│ 2024-10-27 ┆ 117  ┆ private │\n",
       "└────────────┴──────┴─────────┘"
      ]
     },
     "execution_count": 2,
     "metadata": {},
     "output_type": "execute_result"
    }
   ],
   "source": [
    "calendar = pl.read_csv(\"data/calendar.csv\")\n",
    "calendar"
   ]
  },
  {
   "cell_type": "code",
   "execution_count": 3,
   "id": "4acc47f7",
   "metadata": {},
   "outputs": [
    {
     "data": {
      "text/html": [
       "<div><style>\n",
       ".dataframe > thead > tr,\n",
       ".dataframe > tbody > tr {\n",
       "  text-align: right;\n",
       "  white-space: pre-wrap;\n",
       "}\n",
       "</style>\n",
       "<small>shape: (32_219_186, 6)</small><table border=\"1\" class=\"dataframe\"><thead><tr><th>inn_id</th><th>report_date</th><th>ipul</th><th>id_region</th><th>main_okved_group</th><th>diff_datopen_report_date_flg</th></tr><tr><td>str</td><td>str</td><td>str</td><td>str</td><td>str</td><td>str</td></tr></thead><tbody><tr><td>&quot;inn10&quot;</td><td>&quot;2023-10-01&quot;</td><td>&quot;ip&quot;</td><td>&quot;45&quot;</td><td>&quot;47&quot;</td><td>&quot;3_6m&quot;</td></tr><tr><td>&quot;inn100&quot;</td><td>&quot;2023-10-01&quot;</td><td>&quot;ul&quot;</td><td>&quot;80&quot;</td><td>&quot;86&quot;</td><td>&quot;more_12y&quot;</td></tr><tr><td>&quot;inn1000006&quot;</td><td>&quot;2023-10-01&quot;</td><td>&quot;ip&quot;</td><td>&quot;86&quot;</td><td>&quot;49&quot;</td><td>&quot;more_12y&quot;</td></tr><tr><td>&quot;inn1000007&quot;</td><td>&quot;2023-10-01&quot;</td><td>&quot;ul&quot;</td><td>&quot;46&quot;</td><td>&quot;46&quot;</td><td>&quot;4_8y&quot;</td></tr><tr><td>&quot;inn1000008&quot;</td><td>&quot;2023-10-01&quot;</td><td>&quot;ip&quot;</td><td>null</td><td>null</td><td>&quot;NULL&quot;</td></tr><tr><td>&hellip;</td><td>&hellip;</td><td>&hellip;</td><td>&hellip;</td><td>&hellip;</td><td>&hellip;</td></tr><tr><td>&quot;inn99999&quot;</td><td>&quot;2024-08-01&quot;</td><td>&quot;ip&quot;</td><td>&quot;57&quot;</td><td>&quot;75&quot;</td><td>&quot;2_4y&quot;</td></tr><tr><td>&quot;inn999991&quot;</td><td>&quot;2024-08-01&quot;</td><td>&quot;ip&quot;</td><td>&quot;80&quot;</td><td>&quot;74&quot;</td><td>&quot;1_2y&quot;</td></tr><tr><td>&quot;inn999994&quot;</td><td>&quot;2024-08-01&quot;</td><td>&quot;ul&quot;</td><td>&quot;45&quot;</td><td>&quot;41&quot;</td><td>&quot;2_4y&quot;</td></tr><tr><td>&quot;inn999997&quot;</td><td>&quot;2024-08-01&quot;</td><td>&quot;ip&quot;</td><td>&quot;46&quot;</td><td>&quot;85&quot;</td><td>&quot;2_4y&quot;</td></tr><tr><td>&quot;inn999999&quot;</td><td>&quot;2024-08-01&quot;</td><td>&quot;ip&quot;</td><td>&quot;98&quot;</td><td>&quot;93&quot;</td><td>&quot;1_2y&quot;</td></tr></tbody></table></div>"
      ],
      "text/plain": [
       "shape: (32_219_186, 6)\n",
       "┌────────────┬─────────────┬──────┬───────────┬──────────────────┬──────────────────────────────┐\n",
       "│ inn_id     ┆ report_date ┆ ipul ┆ id_region ┆ main_okved_group ┆ diff_datopen_report_date_flg │\n",
       "│ ---        ┆ ---         ┆ ---  ┆ ---       ┆ ---              ┆ ---                          │\n",
       "│ str        ┆ str         ┆ str  ┆ str       ┆ str              ┆ str                          │\n",
       "╞════════════╪═════════════╪══════╪═══════════╪══════════════════╪══════════════════════════════╡\n",
       "│ inn10      ┆ 2023-10-01  ┆ ip   ┆ 45        ┆ 47               ┆ 3_6m                         │\n",
       "│ inn100     ┆ 2023-10-01  ┆ ul   ┆ 80        ┆ 86               ┆ more_12y                     │\n",
       "│ inn1000006 ┆ 2023-10-01  ┆ ip   ┆ 86        ┆ 49               ┆ more_12y                     │\n",
       "│ inn1000007 ┆ 2023-10-01  ┆ ul   ┆ 46        ┆ 46               ┆ 4_8y                         │\n",
       "│ inn1000008 ┆ 2023-10-01  ┆ ip   ┆ null      ┆ null             ┆ NULL                         │\n",
       "│ …          ┆ …           ┆ …    ┆ …         ┆ …                ┆ …                            │\n",
       "│ inn99999   ┆ 2024-08-01  ┆ ip   ┆ 57        ┆ 75               ┆ 2_4y                         │\n",
       "│ inn999991  ┆ 2024-08-01  ┆ ip   ┆ 80        ┆ 74               ┆ 1_2y                         │\n",
       "│ inn999994  ┆ 2024-08-01  ┆ ul   ┆ 45        ┆ 41               ┆ 2_4y                         │\n",
       "│ inn999997  ┆ 2024-08-01  ┆ ip   ┆ 46        ┆ 85               ┆ 2_4y                         │\n",
       "│ inn999999  ┆ 2024-08-01  ┆ ip   ┆ 98        ┆ 93               ┆ 1_2y                         │\n",
       "└────────────┴─────────────┴──────┴───────────┴──────────────────┴──────────────────────────────┘"
      ]
     },
     "execution_count": 3,
     "metadata": {},
     "output_type": "execute_result"
    }
   ],
   "source": [
    "profiles = pl.read_parquet(\"data/profiles.parquet\")#[\"diff_datopen_report_date_flg\"].unique()\n",
    "profiles"
   ]
  },
  {
   "cell_type": "code",
   "execution_count": 4,
   "id": "2d3cd3a2",
   "metadata": {},
   "outputs": [
    {
     "name": "stderr",
     "output_type": "stream",
     "text": [
      "/tmp/ipykernel_61483/1979921702.py:14: DeprecationWarning: The `default` parameter for `replace` is deprecated. Use `replace_strict` instead to set a default while replacing values.\n",
      "  pl.col(\"diff_datopen_report_date_flg\").replace(age, default=np.NAN)\n"
     ]
    },
    {
     "data": {
      "text/html": [
       "<div><style>\n",
       ".dataframe > thead > tr,\n",
       ".dataframe > tbody > tr {\n",
       "  text-align: right;\n",
       "  white-space: pre-wrap;\n",
       "}\n",
       "</style>\n",
       "<small>shape: (32_219_186, 6)</small><table border=\"1\" class=\"dataframe\"><thead><tr><th>inn_id</th><th>report_date</th><th>ipul</th><th>id_region</th><th>main_okved_group</th><th>diff_datopen_report_date_flg</th></tr><tr><td>str</td><td>str</td><td>str</td><td>str</td><td>str</td><td>f64</td></tr></thead><tbody><tr><td>&quot;inn10&quot;</td><td>&quot;2023-10-01&quot;</td><td>&quot;ip&quot;</td><td>&quot;45&quot;</td><td>&quot;47&quot;</td><td>6.0</td></tr><tr><td>&quot;inn100&quot;</td><td>&quot;2023-10-01&quot;</td><td>&quot;ul&quot;</td><td>&quot;80&quot;</td><td>&quot;86&quot;</td><td>192.0</td></tr><tr><td>&quot;inn1000006&quot;</td><td>&quot;2023-10-01&quot;</td><td>&quot;ip&quot;</td><td>&quot;86&quot;</td><td>&quot;49&quot;</td><td>192.0</td></tr><tr><td>&quot;inn1000007&quot;</td><td>&quot;2023-10-01&quot;</td><td>&quot;ul&quot;</td><td>&quot;46&quot;</td><td>&quot;46&quot;</td><td>96.0</td></tr><tr><td>&quot;inn1000008&quot;</td><td>&quot;2023-10-01&quot;</td><td>&quot;ip&quot;</td><td>null</td><td>null</td><td>NaN</td></tr><tr><td>&hellip;</td><td>&hellip;</td><td>&hellip;</td><td>&hellip;</td><td>&hellip;</td><td>&hellip;</td></tr><tr><td>&quot;inn99999&quot;</td><td>&quot;2024-08-01&quot;</td><td>&quot;ip&quot;</td><td>&quot;57&quot;</td><td>&quot;75&quot;</td><td>48.0</td></tr><tr><td>&quot;inn999991&quot;</td><td>&quot;2024-08-01&quot;</td><td>&quot;ip&quot;</td><td>&quot;80&quot;</td><td>&quot;74&quot;</td><td>24.0</td></tr><tr><td>&quot;inn999994&quot;</td><td>&quot;2024-08-01&quot;</td><td>&quot;ul&quot;</td><td>&quot;45&quot;</td><td>&quot;41&quot;</td><td>48.0</td></tr><tr><td>&quot;inn999997&quot;</td><td>&quot;2024-08-01&quot;</td><td>&quot;ip&quot;</td><td>&quot;46&quot;</td><td>&quot;85&quot;</td><td>48.0</td></tr><tr><td>&quot;inn999999&quot;</td><td>&quot;2024-08-01&quot;</td><td>&quot;ip&quot;</td><td>&quot;98&quot;</td><td>&quot;93&quot;</td><td>24.0</td></tr></tbody></table></div>"
      ],
      "text/plain": [
       "shape: (32_219_186, 6)\n",
       "┌────────────┬─────────────┬──────┬───────────┬──────────────────┬──────────────────────────────┐\n",
       "│ inn_id     ┆ report_date ┆ ipul ┆ id_region ┆ main_okved_group ┆ diff_datopen_report_date_flg │\n",
       "│ ---        ┆ ---         ┆ ---  ┆ ---       ┆ ---              ┆ ---                          │\n",
       "│ str        ┆ str         ┆ str  ┆ str       ┆ str              ┆ f64                          │\n",
       "╞════════════╪═════════════╪══════╪═══════════╪══════════════════╪══════════════════════════════╡\n",
       "│ inn10      ┆ 2023-10-01  ┆ ip   ┆ 45        ┆ 47               ┆ 6.0                          │\n",
       "│ inn100     ┆ 2023-10-01  ┆ ul   ┆ 80        ┆ 86               ┆ 192.0                        │\n",
       "│ inn1000006 ┆ 2023-10-01  ┆ ip   ┆ 86        ┆ 49               ┆ 192.0                        │\n",
       "│ inn1000007 ┆ 2023-10-01  ┆ ul   ┆ 46        ┆ 46               ┆ 96.0                         │\n",
       "│ inn1000008 ┆ 2023-10-01  ┆ ip   ┆ null      ┆ null             ┆ NaN                          │\n",
       "│ …          ┆ …           ┆ …    ┆ …         ┆ …                ┆ …                            │\n",
       "│ inn99999   ┆ 2024-08-01  ┆ ip   ┆ 57        ┆ 75               ┆ 48.0                         │\n",
       "│ inn999991  ┆ 2024-08-01  ┆ ip   ┆ 80        ┆ 74               ┆ 24.0                         │\n",
       "│ inn999994  ┆ 2024-08-01  ┆ ul   ┆ 45        ┆ 41               ┆ 48.0                         │\n",
       "│ inn999997  ┆ 2024-08-01  ┆ ip   ┆ 46        ┆ 85               ┆ 48.0                         │\n",
       "│ inn999999  ┆ 2024-08-01  ┆ ip   ┆ 98        ┆ 93               ┆ 24.0                         │\n",
       "└────────────┴─────────────┴──────┴───────────┴──────────────────┴──────────────────────────────┘"
      ]
     },
     "execution_count": 4,
     "metadata": {},
     "output_type": "execute_result"
    }
   ],
   "source": [
    "age={\n",
    "    \"1m\":1,\n",
    "    \"2_3m\":3,\n",
    "    \"3_6m\":6,\n",
    "    \"6_12m\":12,\n",
    "    \"1_2y\":24,\n",
    "    \"2_4y\":48,\n",
    "    \"4_8y\":96,\n",
    "    \"8_12y\":144,\n",
    "    \"more_12y\":192,\n",
    "    #\"NULL\":np.nan\n",
    "}    \n",
    "profiles.with_columns(\n",
    "    pl.col(\"diff_datopen_report_date_flg\").replace(age, default=np.NAN)\n",
    ")"
   ]
  },
  {
   "cell_type": "code",
   "execution_count": null,
   "id": "4c60563d",
   "metadata": {},
   "outputs": [],
   "source": []
  },
  {
   "cell_type": "code",
   "execution_count": null,
   "id": "4a5caa62",
   "metadata": {},
   "outputs": [],
   "source": []
  },
  {
   "cell_type": "code",
   "execution_count": null,
   "id": "403028eb",
   "metadata": {},
   "outputs": [],
   "source": []
  },
  {
   "cell_type": "code",
   "execution_count": 5,
   "id": "ef282251",
   "metadata": {},
   "outputs": [
    {
     "data": {
      "text/html": [
       "<div><style>\n",
       ".dataframe > thead > tr,\n",
       ".dataframe > tbody > tr {\n",
       "  text-align: right;\n",
       "  white-space: pre-wrap;\n",
       "}\n",
       "</style>\n",
       "<small>shape: (826, 22)</small><table border=\"1\" class=\"dataframe\"><thead><tr><th>date</th><th>week</th><th>part</th><th>work_5</th><th>work_4</th><th>work_3</th><th>work_2</th><th>work_1</th><th>work</th><th>work1</th><th>work2</th><th>work3</th><th>work4</th><th>work5</th><th>w5_after</th><th>w4_after</th><th>w3_after</th><th>w2_after</th><th>w2_before</th><th>w3_before</th><th>w4_before</th><th>w5_before</th></tr><tr><td>date</td><td>i64</td><td>str</td><td>i8</td><td>i8</td><td>i8</td><td>i8</td><td>i8</td><td>i8</td><td>i8</td><td>i8</td><td>i8</td><td>i8</td><td>i8</td><td>i8</td><td>i8</td><td>i8</td><td>i8</td><td>i8</td><td>i8</td><td>i8</td><td>i8</td></tr></thead><tbody><tr><td>2022-07-25</td><td>0</td><td>&quot;train&quot;</td><td>1</td><td>1</td><td>1</td><td>0</td><td>0</td><td>1</td><td>1</td><td>1</td><td>1</td><td>1</td><td>0</td><td>4</td><td>4</td><td>3</td><td>2</td><td>0</td><td>1</td><td>2</td><td>3</td></tr><tr><td>2022-07-26</td><td>0</td><td>&quot;train&quot;</td><td>1</td><td>1</td><td>0</td><td>0</td><td>1</td><td>1</td><td>1</td><td>1</td><td>1</td><td>0</td><td>0</td><td>3</td><td>3</td><td>3</td><td>2</td><td>1</td><td>1</td><td>2</td><td>3</td></tr><tr><td>2022-07-27</td><td>0</td><td>&quot;train&quot;</td><td>1</td><td>0</td><td>0</td><td>1</td><td>1</td><td>1</td><td>1</td><td>1</td><td>0</td><td>0</td><td>1</td><td>3</td><td>2</td><td>2</td><td>2</td><td>2</td><td>2</td><td>2</td><td>3</td></tr><tr><td>2022-07-28</td><td>0</td><td>&quot;train&quot;</td><td>0</td><td>0</td><td>1</td><td>1</td><td>1</td><td>1</td><td>1</td><td>0</td><td>0</td><td>1</td><td>1</td><td>3</td><td>2</td><td>1</td><td>1</td><td>2</td><td>3</td><td>3</td><td>3</td></tr><tr><td>2022-07-29</td><td>0</td><td>&quot;train&quot;</td><td>0</td><td>1</td><td>1</td><td>1</td><td>1</td><td>1</td><td>0</td><td>0</td><td>1</td><td>1</td><td>1</td><td>3</td><td>2</td><td>1</td><td>0</td><td>2</td><td>3</td><td>4</td><td>4</td></tr><tr><td>&hellip;</td><td>&hellip;</td><td>&hellip;</td><td>&hellip;</td><td>&hellip;</td><td>&hellip;</td><td>&hellip;</td><td>&hellip;</td><td>&hellip;</td><td>&hellip;</td><td>&hellip;</td><td>&hellip;</td><td>&hellip;</td><td>&hellip;</td><td>&hellip;</td><td>&hellip;</td><td>&hellip;</td><td>&hellip;</td><td>&hellip;</td><td>&hellip;</td><td>&hellip;</td><td>&hellip;</td></tr><tr><td>2024-10-23</td><td>117</td><td>&quot;private&quot;</td><td>1</td><td>0</td><td>0</td><td>1</td><td>1</td><td>1</td><td>1</td><td>1</td><td>0</td><td>0</td><td>1</td><td>3</td><td>2</td><td>2</td><td>2</td><td>2</td><td>2</td><td>2</td><td>3</td></tr><tr><td>2024-10-24</td><td>117</td><td>&quot;private&quot;</td><td>0</td><td>0</td><td>1</td><td>1</td><td>1</td><td>1</td><td>1</td><td>0</td><td>0</td><td>1</td><td>1</td><td>3</td><td>2</td><td>1</td><td>1</td><td>2</td><td>3</td><td>3</td><td>3</td></tr><tr><td>2024-10-25</td><td>117</td><td>&quot;private&quot;</td><td>0</td><td>1</td><td>1</td><td>1</td><td>1</td><td>1</td><td>0</td><td>0</td><td>1</td><td>1</td><td>1</td><td>3</td><td>2</td><td>1</td><td>0</td><td>2</td><td>3</td><td>4</td><td>4</td></tr><tr><td>2024-10-26</td><td>117</td><td>&quot;private&quot;</td><td>1</td><td>1</td><td>1</td><td>1</td><td>1</td><td>0</td><td>0</td><td>1</td><td>1</td><td>1</td><td>1</td><td>4</td><td>3</td><td>2</td><td>1</td><td>2</td><td>3</td><td>4</td><td>5</td></tr><tr><td>2024-10-27</td><td>117</td><td>&quot;private&quot;</td><td>1</td><td>1</td><td>1</td><td>1</td><td>0</td><td>0</td><td>1</td><td>1</td><td>1</td><td>1</td><td>1</td><td>5</td><td>4</td><td>3</td><td>2</td><td>1</td><td>2</td><td>3</td><td>4</td></tr></tbody></table></div>"
      ],
      "text/plain": [
       "shape: (826, 22)\n",
       "┌────────────┬──────┬─────────┬────────┬───┬───────────┬───────────┬───────────┬───────────┐\n",
       "│ date       ┆ week ┆ part    ┆ work_5 ┆ … ┆ w2_before ┆ w3_before ┆ w4_before ┆ w5_before │\n",
       "│ ---        ┆ ---  ┆ ---     ┆ ---    ┆   ┆ ---       ┆ ---       ┆ ---       ┆ ---       │\n",
       "│ date       ┆ i64  ┆ str     ┆ i8     ┆   ┆ i8        ┆ i8        ┆ i8        ┆ i8        │\n",
       "╞════════════╪══════╪═════════╪════════╪═══╪═══════════╪═══════════╪═══════════╪═══════════╡\n",
       "│ 2022-07-25 ┆ 0    ┆ train   ┆ 1      ┆ … ┆ 0         ┆ 1         ┆ 2         ┆ 3         │\n",
       "│ 2022-07-26 ┆ 0    ┆ train   ┆ 1      ┆ … ┆ 1         ┆ 1         ┆ 2         ┆ 3         │\n",
       "│ 2022-07-27 ┆ 0    ┆ train   ┆ 1      ┆ … ┆ 2         ┆ 2         ┆ 2         ┆ 3         │\n",
       "│ 2022-07-28 ┆ 0    ┆ train   ┆ 0      ┆ … ┆ 2         ┆ 3         ┆ 3         ┆ 3         │\n",
       "│ 2022-07-29 ┆ 0    ┆ train   ┆ 0      ┆ … ┆ 2         ┆ 3         ┆ 4         ┆ 4         │\n",
       "│ …          ┆ …    ┆ …       ┆ …      ┆ … ┆ …         ┆ …         ┆ …         ┆ …         │\n",
       "│ 2024-10-23 ┆ 117  ┆ private ┆ 1      ┆ … ┆ 2         ┆ 2         ┆ 2         ┆ 3         │\n",
       "│ 2024-10-24 ┆ 117  ┆ private ┆ 0      ┆ … ┆ 2         ┆ 3         ┆ 3         ┆ 3         │\n",
       "│ 2024-10-25 ┆ 117  ┆ private ┆ 0      ┆ … ┆ 2         ┆ 3         ┆ 4         ┆ 4         │\n",
       "│ 2024-10-26 ┆ 117  ┆ private ┆ 1      ┆ … ┆ 2         ┆ 3         ┆ 4         ┆ 5         │\n",
       "│ 2024-10-27 ┆ 117  ┆ private ┆ 1      ┆ … ┆ 1         ┆ 2         ┆ 3         ┆ 4         │\n",
       "└────────────┴──────┴─────────┴────────┴───┴───────────┴───────────┴───────────┴───────────┘"
      ]
     },
     "execution_count": 5,
     "metadata": {},
     "output_type": "execute_result"
    }
   ],
   "source": [
    "import datetime  \n",
    "\n",
    "workdays={}\n",
    "d1 = datetime.date(2022, 1, 1)\n",
    "while d1<datetime.date(2025, 1, 1):\n",
    "    #print(d1)\n",
    "    #workdays.append([d1,0 if d1.weekday() in [5,6] else 1 ] )\n",
    "    workdays[d1] = 0 if d1.weekday() in [5,6] else 1\n",
    "    \n",
    "    d1=d1+datetime.timedelta(1) \n",
    "workdays[datetime.date(2022, 1, 3)] = 0\n",
    "workdays[datetime.date(2022, 1, 4)] = 0\n",
    "workdays[datetime.date(2022, 1, 5)] = 0\n",
    "workdays[datetime.date(2022, 1, 6)] = 0\n",
    "workdays[datetime.date(2022, 1, 7)] = 0\n",
    "\n",
    "workdays[datetime.date(2022, 2, 23)] = 0\n",
    "\n",
    "workdays[datetime.date(2022, 3, 5)] = 1\n",
    "workdays[datetime.date(2022, 3, 7)] = 0\n",
    "workdays[datetime.date(2022, 3, 8)] = 0\n",
    "\n",
    "workdays[datetime.date(2022, 5, 2)] = 0\n",
    "workdays[datetime.date(2022, 5, 3)] = 0\n",
    "workdays[datetime.date(2022, 5, 9)] = 0\n",
    "workdays[datetime.date(2022, 5, 10)] = 0\n",
    "\n",
    "workdays[datetime.date(2022, 6, 13)] = 0\n",
    "\n",
    "workdays[datetime.date(2022, 11, 4)] = 0\n",
    "########################################## 2023\n",
    "workdays[datetime.date(2023, 1, 2)] = 0\n",
    "workdays[datetime.date(2023, 1, 3)] = 0\n",
    "workdays[datetime.date(2023, 1, 4)] = 0\n",
    "workdays[datetime.date(2023, 1, 5)] = 0\n",
    "workdays[datetime.date(2023, 1, 6)] = 0\n",
    "\n",
    "workdays[datetime.date(2023, 2, 23)] = 0\n",
    "workdays[datetime.date(2023, 2, 24)] = 0\n",
    "\n",
    "workdays[datetime.date(2023, 3, 8)] = 0\n",
    "\n",
    "workdays[datetime.date(2023, 5, 1)] = 0\n",
    "workdays[datetime.date(2023, 5, 8)] = 0\n",
    "workdays[datetime.date(2023, 5, 9)] = 0\n",
    "\n",
    "workdays[datetime.date(2023, 6, 12)] = 0\n",
    "\n",
    "workdays[datetime.date(2023, 11, 6)] = 0\n",
    "########################################## 2024\n",
    "workdays[datetime.date(2024, 1, 1)] = 0\n",
    "workdays[datetime.date(2024, 1, 2)] = 0\n",
    "workdays[datetime.date(2024, 1, 3)] = 0\n",
    "workdays[datetime.date(2024, 1, 6)] = 0\n",
    "workdays[datetime.date(2024, 1, 7)] = 0\n",
    "workdays[datetime.date(2024, 1, 8)] = 0\n",
    "\n",
    "workdays[datetime.date(2024, 5, 1)] = 0\n",
    "workdays[datetime.date(2024, 5, 2)] = 0\n",
    "workdays[datetime.date(2024, 5, 8)] = 0\n",
    "workdays[datetime.date(2024, 5, 9)] = 0\n",
    "\n",
    "workdays[datetime.date(2024, 6, 12)] = 0\n",
    "workdays[datetime.date(2024, 6, 13)] = 0\n",
    "\n",
    "workdays[datetime.date(2024, 11, 1)] = 1\n",
    "workdays[datetime.date(2024, 11, 3)] = 0\n",
    "workdays[datetime.date(2024, 11, 4)] = 0\n",
    "\n",
    "workdays[datetime.date(2024, 12, 31)] = 0\n",
    "\n",
    "workdays\n",
    "\n",
    "calendar = pl.read_csv(\"data/calendar.csv\", try_parse_dates=True)\n",
    "calendar.with_columns(\n",
    "                      (pl.col(\"date\")+datetime.timedelta(-5)).replace(workdays).cast(pl.Int8).alias(\"work_5\"), \n",
    "                      (pl.col(\"date\")+datetime.timedelta(-4)).replace(workdays).cast(pl.Int8).alias(\"work_4\"), \n",
    "                      (pl.col(\"date\")+datetime.timedelta(-3)).replace(workdays).cast(pl.Int8).alias(\"work_3\"), \n",
    "                      (pl.col(\"date\")+datetime.timedelta(-2)).replace(workdays).cast(pl.Int8).alias(\"work_2\"), \n",
    "                      (pl.col(\"date\")+datetime.timedelta(-1)).replace(workdays).cast(pl.Int8).alias(\"work_1\"), \n",
    "                      pl.col(\"date\").replace(workdays).cast(pl.Int8).alias(\"work\"),\n",
    "                      (pl.col(\"date\")+datetime.timedelta(1)).replace(workdays).cast(pl.Int8).alias(\"work1\"), \n",
    "                      (pl.col(\"date\")+datetime.timedelta(2)).replace(workdays).cast(pl.Int8).alias(\"work2\"), \n",
    "                      (pl.col(\"date\")+datetime.timedelta(3)).replace(workdays).cast(pl.Int8).alias(\"work3\"), \n",
    "                      (pl.col(\"date\")+datetime.timedelta(4)).replace(workdays).cast(pl.Int8).alias(\"work4\"), \n",
    "                      (pl.col(\"date\")+datetime.timedelta(5)).replace(workdays).cast(pl.Int8).alias(\"work5\"), \n",
    "                     ).with_columns( \n",
    "                      (pl.col(\"work1\")+pl.col(\"work2\")+pl.col(\"work3\")+pl.col(\"work4\")+pl.col(\"work5\")).alias(\"w5_after\"), \n",
    "                      (pl.col(\"work1\")+pl.col(\"work2\")+pl.col(\"work3\")+pl.col(\"work4\")).alias(\"w4_after\"), \n",
    "                      (pl.col(\"work1\")+pl.col(\"work2\")+pl.col(\"work3\")).alias(\"w3_after\"), \n",
    "                      (pl.col(\"work1\")+pl.col(\"work2\")).alias(\"w2_after\"), \n",
    "                      (pl.col(\"work_1\")+pl.col(\"work_2\")).alias(\"w2_before\"), \n",
    "                      (pl.col(\"work_1\")+pl.col(\"work_2\")+pl.col(\"work_3\")).alias(\"w3_before\"), \n",
    "                      (pl.col(\"work_1\")+pl.col(\"work_2\")+pl.col(\"work_3\")+pl.col(\"work_4\")).alias(\"w4_before\"), \n",
    "                      (pl.col(\"work_1\")+pl.col(\"work_2\")+pl.col(\"work_3\")+pl.col(\"work_4\")+pl.col(\"work_5\")).alias(\"w5_before\"), \n",
    "                     )"
   ]
  },
  {
   "cell_type": "code",
   "execution_count": null,
   "id": "fc70261b",
   "metadata": {},
   "outputs": [],
   "source": []
  },
  {
   "cell_type": "code",
   "execution_count": null,
   "id": "969c3d9b",
   "metadata": {},
   "outputs": [],
   "source": []
  },
  {
   "cell_type": "code",
   "execution_count": 6,
   "id": "62e0e485",
   "metadata": {},
   "outputs": [
    {
     "data": {
      "text/html": [
       "<div><style>\n",
       ".dataframe > thead > tr,\n",
       ".dataframe > tbody > tr {\n",
       "  text-align: right;\n",
       "  white-space: pre-wrap;\n",
       "}\n",
       "</style>\n",
       "<small>shape: (51_963,)</small><table border=\"1\" class=\"dataframe\"><thead><tr><th>inn_id</th></tr><tr><td>str</td></tr></thead><tbody><tr><td>&quot;inn186997&quot;</td></tr><tr><td>&quot;inn3451034&quot;</td></tr><tr><td>&quot;inn4866695&quot;</td></tr><tr><td>&quot;inn4838825&quot;</td></tr><tr><td>&quot;inn2336565&quot;</td></tr><tr><td>&hellip;</td></tr><tr><td>&quot;inn3628496&quot;</td></tr><tr><td>&quot;inn4693682&quot;</td></tr><tr><td>&quot;inn4008153&quot;</td></tr><tr><td>&quot;inn4625635&quot;</td></tr><tr><td>&quot;inn416014&quot;</td></tr></tbody></table></div>"
      ],
      "text/plain": [
       "shape: (51_963,)\n",
       "Series: 'inn_id' [str]\n",
       "[\n",
       "\t\"inn186997\"\n",
       "\t\"inn3451034\"\n",
       "\t\"inn4866695\"\n",
       "\t\"inn4838825\"\n",
       "\t\"inn2336565\"\n",
       "\t…\n",
       "\t\"inn3628496\"\n",
       "\t\"inn4693682\"\n",
       "\t\"inn4008153\"\n",
       "\t\"inn4625635\"\n",
       "\t\"inn416014\"\n",
       "]"
      ]
     },
     "execution_count": 6,
     "metadata": {},
     "output_type": "execute_result"
    }
   ],
   "source": [
    "inns = pl.read_csv(\"data/sample_submit.csv\"\n",
    "           )[\"inn_id\"].unique()\n",
    "inns"
   ]
  },
  {
   "cell_type": "code",
   "execution_count": null,
   "id": "c663401c",
   "metadata": {},
   "outputs": [],
   "source": []
  },
  {
   "cell_type": "code",
   "execution_count": 7,
   "id": "6ff4865e",
   "metadata": {},
   "outputs": [
    {
     "data": {
      "text/html": [
       "<div><style>\n",
       ".dataframe > thead > tr,\n",
       ".dataframe > tbody > tr {\n",
       "  text-align: right;\n",
       "  white-space: pre-wrap;\n",
       "}\n",
       "</style>\n",
       "<small>shape: (826, 3)</small><table border=\"1\" class=\"dataframe\"><thead><tr><th>date</th><th>week</th><th>part</th></tr><tr><td>date</td><td>i64</td><td>str</td></tr></thead><tbody><tr><td>2022-07-25</td><td>0</td><td>&quot;train&quot;</td></tr><tr><td>2022-07-26</td><td>0</td><td>&quot;train&quot;</td></tr><tr><td>2022-07-27</td><td>0</td><td>&quot;train&quot;</td></tr><tr><td>2022-07-28</td><td>0</td><td>&quot;train&quot;</td></tr><tr><td>2022-07-29</td><td>0</td><td>&quot;train&quot;</td></tr><tr><td>&hellip;</td><td>&hellip;</td><td>&hellip;</td></tr><tr><td>2024-10-23</td><td>117</td><td>&quot;private&quot;</td></tr><tr><td>2024-10-24</td><td>117</td><td>&quot;private&quot;</td></tr><tr><td>2024-10-25</td><td>117</td><td>&quot;private&quot;</td></tr><tr><td>2024-10-26</td><td>117</td><td>&quot;private&quot;</td></tr><tr><td>2024-10-27</td><td>117</td><td>&quot;private&quot;</td></tr></tbody></table></div>"
      ],
      "text/plain": [
       "shape: (826, 3)\n",
       "┌────────────┬──────┬─────────┐\n",
       "│ date       ┆ week ┆ part    │\n",
       "│ ---        ┆ ---  ┆ ---     │\n",
       "│ date       ┆ i64  ┆ str     │\n",
       "╞════════════╪══════╪═════════╡\n",
       "│ 2022-07-25 ┆ 0    ┆ train   │\n",
       "│ 2022-07-26 ┆ 0    ┆ train   │\n",
       "│ 2022-07-27 ┆ 0    ┆ train   │\n",
       "│ 2022-07-28 ┆ 0    ┆ train   │\n",
       "│ 2022-07-29 ┆ 0    ┆ train   │\n",
       "│ …          ┆ …    ┆ …       │\n",
       "│ 2024-10-23 ┆ 117  ┆ private │\n",
       "│ 2024-10-24 ┆ 117  ┆ private │\n",
       "│ 2024-10-25 ┆ 117  ┆ private │\n",
       "│ 2024-10-26 ┆ 117  ┆ private │\n",
       "│ 2024-10-27 ┆ 117  ┆ private │\n",
       "└────────────┴──────┴─────────┘"
      ]
     },
     "execution_count": 7,
     "metadata": {},
     "output_type": "execute_result"
    }
   ],
   "source": [
    "calendar = pl.read_csv(\"data/calendar.csv\",try_parse_dates=True)\n",
    "calendar"
   ]
  },
  {
   "cell_type": "code",
   "execution_count": 8,
   "id": "3da15279",
   "metadata": {},
   "outputs": [
    {
     "data": {
      "text/html": [
       "<div><style>\n",
       ".dataframe > thead > tr,\n",
       ".dataframe > tbody > tr {\n",
       "  text-align: right;\n",
       "  white-space: pre-wrap;\n",
       "}\n",
       "</style>\n",
       "<small>shape: (42_921_438, 3)</small><table border=\"1\" class=\"dataframe\"><thead><tr><th>inn_id</th><th>date</th><th>week</th></tr><tr><td>str</td><td>date</td><td>i64</td></tr></thead><tbody><tr><td>&quot;inn2063424&quot;</td><td>2022-07-25</td><td>0</td></tr><tr><td>&quot;inn2063424&quot;</td><td>2022-07-26</td><td>0</td></tr><tr><td>&quot;inn2063424&quot;</td><td>2022-07-27</td><td>0</td></tr><tr><td>&quot;inn2063424&quot;</td><td>2022-07-28</td><td>0</td></tr><tr><td>&quot;inn2063424&quot;</td><td>2022-07-29</td><td>0</td></tr><tr><td>&hellip;</td><td>&hellip;</td><td>&hellip;</td></tr><tr><td>&quot;inn1214848&quot;</td><td>2024-10-23</td><td>117</td></tr><tr><td>&quot;inn1214848&quot;</td><td>2024-10-24</td><td>117</td></tr><tr><td>&quot;inn1214848&quot;</td><td>2024-10-25</td><td>117</td></tr><tr><td>&quot;inn1214848&quot;</td><td>2024-10-26</td><td>117</td></tr><tr><td>&quot;inn1214848&quot;</td><td>2024-10-27</td><td>117</td></tr></tbody></table></div>"
      ],
      "text/plain": [
       "shape: (42_921_438, 3)\n",
       "┌────────────┬────────────┬──────┐\n",
       "│ inn_id     ┆ date       ┆ week │\n",
       "│ ---        ┆ ---        ┆ ---  │\n",
       "│ str        ┆ date       ┆ i64  │\n",
       "╞════════════╪════════════╪══════╡\n",
       "│ inn2063424 ┆ 2022-07-25 ┆ 0    │\n",
       "│ inn2063424 ┆ 2022-07-26 ┆ 0    │\n",
       "│ inn2063424 ┆ 2022-07-27 ┆ 0    │\n",
       "│ inn2063424 ┆ 2022-07-28 ┆ 0    │\n",
       "│ inn2063424 ┆ 2022-07-29 ┆ 0    │\n",
       "│ …          ┆ …          ┆ …    │\n",
       "│ inn1214848 ┆ 2024-10-23 ┆ 117  │\n",
       "│ inn1214848 ┆ 2024-10-24 ┆ 117  │\n",
       "│ inn1214848 ┆ 2024-10-25 ┆ 117  │\n",
       "│ inn1214848 ┆ 2024-10-26 ┆ 117  │\n",
       "│ inn1214848 ┆ 2024-10-27 ┆ 117  │\n",
       "└────────────┴────────────┴──────┘"
      ]
     },
     "execution_count": 8,
     "metadata": {},
     "output_type": "execute_result"
    }
   ],
   "source": [
    "inndate = pl.read_csv(\"data/sample_submit.csv\"\n",
    "           ).select(\"inn_id\"\n",
    "                   ).unique(\"inn_id\"\n",
    "                           ).join(calendar.select(\"date\",\"week\"), how=\"cross\")\n",
    "inndate"
   ]
  },
  {
   "cell_type": "code",
   "execution_count": 9,
   "id": "c90b2021",
   "metadata": {},
   "outputs": [
    {
     "name": "stdout",
     "output_type": "stream",
     "text": [
      "CPU times: user 3 μs, sys: 1e+03 ns, total: 4 μs\n",
      "Wall time: 8.58 μs\n"
     ]
    },
    {
     "data": {
      "text/html": [
       "<div><style>\n",
       ".dataframe > thead > tr,\n",
       ".dataframe > tbody > tr {\n",
       "  text-align: right;\n",
       "  white-space: pre-wrap;\n",
       "}\n",
       "</style>\n",
       "<small>shape: (18_326_401, 3)</small><table border=\"1\" class=\"dataframe\"><thead><tr><th>doc_payee_inn</th><th>in_vtb_date</th><th>in_vtb_trns_amount</th></tr><tr><td>str</td><td>date</td><td>f32</td></tr></thead><tbody><tr><td>&quot;inn40964&quot;</td><td>2024-07-08</td><td>1.0879e6</td></tr><tr><td>&quot;inn285044&quot;</td><td>2024-07-29</td><td>454.797119</td></tr><tr><td>&quot;inn2063975&quot;</td><td>2024-08-02</td><td>34486.761719</td></tr><tr><td>&quot;inn2402479&quot;</td><td>2024-08-03</td><td>39595.4375</td></tr><tr><td>&quot;inn4245369&quot;</td><td>2023-01-13</td><td>2.9869e6</td></tr><tr><td>&hellip;</td><td>&hellip;</td><td>&hellip;</td></tr><tr><td>&quot;inn4073374&quot;</td><td>2024-02-08</td><td>412632.5625</td></tr><tr><td>&quot;inn2515881&quot;</td><td>2023-05-15</td><td>355791.9375</td></tr><tr><td>&quot;inn1245521&quot;</td><td>2023-02-20</td><td>743714.875</td></tr><tr><td>&quot;inn219472&quot;</td><td>2022-11-25</td><td>25603.949219</td></tr><tr><td>&quot;inn3980253&quot;</td><td>2024-02-05</td><td>999584.4375</td></tr></tbody></table></div>"
      ],
      "text/plain": [
       "shape: (18_326_401, 3)\n",
       "┌───────────────┬─────────────┬────────────────────┐\n",
       "│ doc_payee_inn ┆ in_vtb_date ┆ in_vtb_trns_amount │\n",
       "│ ---           ┆ ---         ┆ ---                │\n",
       "│ str           ┆ date        ┆ f32                │\n",
       "╞═══════════════╪═════════════╪════════════════════╡\n",
       "│ inn40964      ┆ 2024-07-08  ┆ 1.0879e6           │\n",
       "│ inn285044     ┆ 2024-07-29  ┆ 454.797119         │\n",
       "│ inn2063975    ┆ 2024-08-02  ┆ 34486.761719       │\n",
       "│ inn2402479    ┆ 2024-08-03  ┆ 39595.4375         │\n",
       "│ inn4245369    ┆ 2023-01-13  ┆ 2.9869e6           │\n",
       "│ …             ┆ …           ┆ …                  │\n",
       "│ inn4073374    ┆ 2024-02-08  ┆ 412632.5625        │\n",
       "│ inn2515881    ┆ 2023-05-15  ┆ 355791.9375        │\n",
       "│ inn1245521    ┆ 2023-02-20  ┆ 743714.875         │\n",
       "│ inn219472     ┆ 2022-11-25  ┆ 25603.949219       │\n",
       "│ inn3980253    ┆ 2024-02-05  ┆ 999584.4375        │\n",
       "└───────────────┴─────────────┴────────────────────┘"
      ]
     },
     "execution_count": 9,
     "metadata": {},
     "output_type": "execute_result"
    }
   ],
   "source": [
    "%time\n",
    "#приходы в ВТБ\n",
    "in_vtb=pl.scan_parquet(\"data/transactions_?.parquet\"\n",
    "               ).filter(pl.col(\"doc_payee_inn\").is_in(inns)\n",
    "               ).filter(pl.col(\"doc_payee_bank_name_flag\")==1\n",
    "                      ).with_columns(pl.col(\"date\").dt.date()\n",
    "                             #).join(pl.scan_csv(\"data/calendar.csv\", try_parse_dates=True\n",
    "                             #                  ).drop(\"part\"\n",
    "                             #                        ).with_columns(pl.col(\"week\").cast(pl.Int8)),\n",
    "                             #       on=\"date\",\n",
    "                             #       how=\"left\"\n",
    "                                   ).group_by(\"doc_payee_inn\",\"date\"\n",
    "                                             ).agg(#pl.col(\"trns_count\").sum(),\n",
    "                                                   pl.col(\"trns_amount\").sum().cast(pl.Float32),\n",
    "                                                   #pl.col(\"date\").n_unique(),\n",
    "                                                   #pl.col(\"trns_class_encoded\").n_unique(),\n",
    "                                                   #pl.col(\"doc_payee_bank_name_encoded\").n_unique(),\n",
    "                                            #).with_columns(\n",
    "                                            #    pl.col(\"trns_count\").cast(pl.Int16),\n",
    "                                                #pl.col(\"trns_amount\").cast(pl.Float64),\n",
    "                                            #    np.log1p(pl.col(\"trns_amount\")).alias(\"trns_amount_log\"),                                                   \n",
    "                                                  ).rename(lambda column_name: (\"\" if column_name in [\"doc_payee_inn\",\"week\"] else \"in_vtb_\") + column_name\n",
    "                                                          ).collect()\n",
    "in_vtb"
   ]
  },
  {
   "cell_type": "code",
   "execution_count": 10,
   "id": "01be63b3",
   "metadata": {},
   "outputs": [
    {
     "name": "stdout",
     "output_type": "stream",
     "text": [
      "CPU times: user 37.6 s, sys: 11.5 s, total: 49.2 s\n",
      "Wall time: 16 s\n"
     ]
    },
    {
     "data": {
      "text/html": [
       "<div><style>\n",
       ".dataframe > thead > tr,\n",
       ".dataframe > tbody > tr {\n",
       "  text-align: right;\n",
       "  white-space: pre-wrap;\n",
       "}\n",
       "</style>\n",
       "<small>shape: (17_662_562, 3)</small><table border=\"1\" class=\"dataframe\"><thead><tr><th>doc_payer_inn</th><th>out_vtb_date</th><th>out_vtb_trns_amount</th></tr><tr><td>str</td><td>date</td><td>f32</td></tr></thead><tbody><tr><td>&quot;inn3587742&quot;</td><td>2023-01-16</td><td>144508.390625</td></tr><tr><td>&quot;inn5174557&quot;</td><td>2023-03-06</td><td>153952.265625</td></tr><tr><td>&quot;inn888295&quot;</td><td>2023-07-29</td><td>16503.714844</td></tr><tr><td>&quot;inn5059269&quot;</td><td>2023-06-14</td><td>2.2060e6</td></tr><tr><td>&quot;inn4629435&quot;</td><td>2023-06-19</td><td>1.953266e6</td></tr><tr><td>&hellip;</td><td>&hellip;</td><td>&hellip;</td></tr><tr><td>&quot;inn1745389&quot;</td><td>2024-07-31</td><td>10924.647461</td></tr><tr><td>&quot;inn2828025&quot;</td><td>2023-01-22</td><td>184347.859375</td></tr><tr><td>&quot;inn88495&quot;</td><td>2022-10-21</td><td>776908.25</td></tr><tr><td>&quot;inn2580051&quot;</td><td>2022-12-21</td><td>4548.464844</td></tr><tr><td>&quot;inn4744009&quot;</td><td>2023-09-19</td><td>34572.65625</td></tr></tbody></table></div>"
      ],
      "text/plain": [
       "shape: (17_662_562, 3)\n",
       "┌───────────────┬──────────────┬─────────────────────┐\n",
       "│ doc_payer_inn ┆ out_vtb_date ┆ out_vtb_trns_amount │\n",
       "│ ---           ┆ ---          ┆ ---                 │\n",
       "│ str           ┆ date         ┆ f32                 │\n",
       "╞═══════════════╪══════════════╪═════════════════════╡\n",
       "│ inn3587742    ┆ 2023-01-16   ┆ 144508.390625       │\n",
       "│ inn5174557    ┆ 2023-03-06   ┆ 153952.265625       │\n",
       "│ inn888295     ┆ 2023-07-29   ┆ 16503.714844        │\n",
       "│ inn5059269    ┆ 2023-06-14   ┆ 2.2060e6            │\n",
       "│ inn4629435    ┆ 2023-06-19   ┆ 1.953266e6          │\n",
       "│ …             ┆ …            ┆ …                   │\n",
       "│ inn1745389    ┆ 2024-07-31   ┆ 10924.647461        │\n",
       "│ inn2828025    ┆ 2023-01-22   ┆ 184347.859375       │\n",
       "│ inn88495      ┆ 2022-10-21   ┆ 776908.25           │\n",
       "│ inn2580051    ┆ 2022-12-21   ┆ 4548.464844         │\n",
       "│ inn4744009    ┆ 2023-09-19   ┆ 34572.65625         │\n",
       "└───────────────┴──────────────┴─────────────────────┘"
      ]
     },
     "execution_count": 10,
     "metadata": {},
     "output_type": "execute_result"
    }
   ],
   "source": [
    "%%time\n",
    "#расходы из ВТБ\n",
    "out_vtb=pl.scan_parquet(\"data/transactions_?.parquet\"\n",
    "               ).filter(pl.col(\"doc_payer_inn\").is_in(inns)\n",
    "               ).filter(pl.col(\"doc_payer_bank_name_flag\")==1\n",
    "                      ).with_columns(pl.col(\"date\").dt.date()\n",
    "                             #).join(pl.scan_csv(\"data/calendar.csv\", try_parse_dates=True\n",
    "                             #                  ).drop(\"part\"\n",
    "                             #                        ).with_columns(pl.col(\"week\").cast(pl.Int8)),\n",
    "                             #       on=\"date\",\n",
    "                             #       how=\"left\"\n",
    "                                   ).group_by(\"doc_payer_inn\",\"date\"\n",
    "                                             ).agg(#pl.col(\"trns_count\").sum(),\n",
    "                                                   pl.col(\"trns_amount\").sum().cast(pl.Float32),\n",
    "                                                   #pl.col(\"date\").n_unique(),\n",
    "                                                   #pl.col(\"trns_class_encoded\").n_unique(),\n",
    "                                                   #pl.col(\"doc_payer_bank_name_encoded\").n_unique(),\n",
    "                                            #).with_columns(                              \n",
    "                                            #    np.log1p(pl.col(\"trns_amount\")).alias(\"trns_amount_log\"),\n",
    "                                                    ).rename(lambda column_name: (\"\" if column_name in [\"doc_payer_inn\",\"week\"] else \"out_vtb_\") + column_name\n",
    "                                                          ).collect()\n",
    "out_vtb"
   ]
  },
  {
   "cell_type": "code",
   "execution_count": 11,
   "id": "946df0b7",
   "metadata": {},
   "outputs": [
    {
     "name": "stdout",
     "output_type": "stream",
     "text": [
      "CPU times: user 58 s, sys: 11.2 s, total: 1min 9s\n",
      "Wall time: 24 s\n"
     ]
    },
    {
     "data": {
      "text/html": [
       "<div><style>\n",
       ".dataframe > thead > tr,\n",
       ".dataframe > tbody > tr {\n",
       "  text-align: right;\n",
       "  white-space: pre-wrap;\n",
       "}\n",
       "</style>\n",
       "<small>shape: (42_921_438, 8)</small><table border=\"1\" class=\"dataframe\"><thead><tr><th>inn_id</th><th>date</th><th>week</th><th>in_vtb_trns_amount</th><th>out_vtb_trns_amount</th><th>dkrez</th><th>cumsum</th><th>cummin</th></tr><tr><td>str</td><td>date</td><td>i8</td><td>f32</td><td>f32</td><td>f32</td><td>f32</td><td>f32</td></tr></thead><tbody><tr><td>&quot;inn1000051&quot;</td><td>2022-07-25</td><td>0</td><td>16515.076172</td><td>380510.625</td><td>-363995.5625</td><td>0.0</td><td>-363995.5625</td></tr><tr><td>&quot;inn1000051&quot;</td><td>2022-07-26</td><td>0</td><td>6251.666504</td><td>41648.703125</td><td>-35397.035156</td><td>0.0</td><td>-399392.59375</td></tr><tr><td>&quot;inn1000051&quot;</td><td>2022-07-27</td><td>0</td><td>0.0</td><td>0.0</td><td>0.0</td><td>0.0</td><td>-399392.59375</td></tr><tr><td>&quot;inn1000051&quot;</td><td>2022-07-28</td><td>0</td><td>0.0</td><td>0.0</td><td>0.0</td><td>0.0</td><td>-399392.59375</td></tr><tr><td>&quot;inn1000051&quot;</td><td>2022-07-29</td><td>0</td><td>13733.06543</td><td>0.0</td><td>13733.06543</td><td>0.0</td><td>-399392.59375</td></tr><tr><td>&hellip;</td><td>&hellip;</td><td>&hellip;</td><td>&hellip;</td><td>&hellip;</td><td>&hellip;</td><td>&hellip;</td><td>&hellip;</td></tr><tr><td>&quot;inn999886&quot;</td><td>2024-10-23</td><td>117</td><td>0.0</td><td>0.0</td><td>0.0</td><td>8.7592864e8</td><td>0.0</td></tr><tr><td>&quot;inn999886&quot;</td><td>2024-10-24</td><td>117</td><td>0.0</td><td>0.0</td><td>0.0</td><td>8.7592864e8</td><td>0.0</td></tr><tr><td>&quot;inn999886&quot;</td><td>2024-10-25</td><td>117</td><td>0.0</td><td>0.0</td><td>0.0</td><td>8.7592864e8</td><td>0.0</td></tr><tr><td>&quot;inn999886&quot;</td><td>2024-10-26</td><td>117</td><td>0.0</td><td>0.0</td><td>0.0</td><td>8.7592864e8</td><td>0.0</td></tr><tr><td>&quot;inn999886&quot;</td><td>2024-10-27</td><td>117</td><td>0.0</td><td>0.0</td><td>0.0</td><td>8.7592864e8</td><td>0.0</td></tr></tbody></table></div>"
      ],
      "text/plain": [
       "shape: (42_921_438, 8)\n",
       "┌────────────┬────────────┬──────┬─────────────┬────────────┬────────────┬────────────┬────────────┐\n",
       "│ inn_id     ┆ date       ┆ week ┆ in_vtb_trns ┆ out_vtb_tr ┆ dkrez      ┆ cumsum     ┆ cummin     │\n",
       "│ ---        ┆ ---        ┆ ---  ┆ _amount     ┆ ns_amount  ┆ ---        ┆ ---        ┆ ---        │\n",
       "│ str        ┆ date       ┆ i8   ┆ ---         ┆ ---        ┆ f32        ┆ f32        ┆ f32        │\n",
       "│            ┆            ┆      ┆ f32         ┆ f32        ┆            ┆            ┆            │\n",
       "╞════════════╪════════════╪══════╪═════════════╪════════════╪════════════╪════════════╪════════════╡\n",
       "│ inn1000051 ┆ 2022-07-25 ┆ 0    ┆ 16515.07617 ┆ 380510.625 ┆ -363995.56 ┆ 0.0        ┆ -363995.56 │\n",
       "│            ┆            ┆      ┆ 2           ┆            ┆ 25         ┆            ┆ 25         │\n",
       "│ inn1000051 ┆ 2022-07-26 ┆ 0    ┆ 6251.666504 ┆ 41648.7031 ┆ -35397.035 ┆ 0.0        ┆ -399392.59 │\n",
       "│            ┆            ┆      ┆             ┆ 25         ┆ 156        ┆            ┆ 375        │\n",
       "│ inn1000051 ┆ 2022-07-27 ┆ 0    ┆ 0.0         ┆ 0.0        ┆ 0.0        ┆ 0.0        ┆ -399392.59 │\n",
       "│            ┆            ┆      ┆             ┆            ┆            ┆            ┆ 375        │\n",
       "│ inn1000051 ┆ 2022-07-28 ┆ 0    ┆ 0.0         ┆ 0.0        ┆ 0.0        ┆ 0.0        ┆ -399392.59 │\n",
       "│            ┆            ┆      ┆             ┆            ┆            ┆            ┆ 375        │\n",
       "│ inn1000051 ┆ 2022-07-29 ┆ 0    ┆ 13733.06543 ┆ 0.0        ┆ 13733.0654 ┆ 0.0        ┆ -399392.59 │\n",
       "│            ┆            ┆      ┆             ┆            ┆ 3          ┆            ┆ 375        │\n",
       "│ …          ┆ …          ┆ …    ┆ …           ┆ …          ┆ …          ┆ …          ┆ …          │\n",
       "│ inn999886  ┆ 2024-10-23 ┆ 117  ┆ 0.0         ┆ 0.0        ┆ 0.0        ┆ 8.7592864e ┆ 0.0        │\n",
       "│            ┆            ┆      ┆             ┆            ┆            ┆ 8          ┆            │\n",
       "│ inn999886  ┆ 2024-10-24 ┆ 117  ┆ 0.0         ┆ 0.0        ┆ 0.0        ┆ 8.7592864e ┆ 0.0        │\n",
       "│            ┆            ┆      ┆             ┆            ┆            ┆ 8          ┆            │\n",
       "│ inn999886  ┆ 2024-10-25 ┆ 117  ┆ 0.0         ┆ 0.0        ┆ 0.0        ┆ 8.7592864e ┆ 0.0        │\n",
       "│            ┆            ┆      ┆             ┆            ┆            ┆ 8          ┆            │\n",
       "│ inn999886  ┆ 2024-10-26 ┆ 117  ┆ 0.0         ┆ 0.0        ┆ 0.0        ┆ 8.7592864e ┆ 0.0        │\n",
       "│            ┆            ┆      ┆             ┆            ┆            ┆ 8          ┆            │\n",
       "│ inn999886  ┆ 2024-10-27 ┆ 117  ┆ 0.0         ┆ 0.0        ┆ 0.0        ┆ 8.7592864e ┆ 0.0        │\n",
       "│            ┆            ┆      ┆             ┆            ┆            ┆ 8          ┆            │\n",
       "└────────────┴────────────┴──────┴─────────────┴────────────┴────────────┴────────────┴────────────┘"
      ]
     },
     "execution_count": 11,
     "metadata": {},
     "output_type": "execute_result"
    }
   ],
   "source": [
    "%%time\n",
    "inndatedk=inndate.join(in_vtb,\n",
    "             left_on=[\"inn_id\",\"date\"],\n",
    "             right_on=[\"doc_payee_inn\",\"in_vtb_date\"],\n",
    "             how=\"left\"\n",
    "            ).join(out_vtb,\n",
    "             left_on=[\"inn_id\",\"date\"],\n",
    "             right_on=[\"doc_payer_inn\",\"out_vtb_date\"],\n",
    "             how=\"left\"\n",
    "            ).fill_null(0\n",
    "            ).with_columns(\n",
    "                           (pl.col(\"in_vtb_trns_amount\")-pl.col(\"out_vtb_trns_amount\")).alias(\"dkrez\"),\n",
    "                           pl.col(\"week\").cast(pl.Int8) \n",
    "            ).with_columns(\n",
    "                           pl.col(\"dkrez\").cum_sum().over(\"inn_id\").alias(\"cumsum\"),\n",
    "            ).with_columns(                           \n",
    "                           pl.col(\"cumsum\").cum_min().over(\"inn_id\").alias(\"cummin\"),\n",
    "            ).with_columns(                           \n",
    "                                           (pl.when(pl.col(\"cummin\")>0\n",
    "                                                   ).then(pl.lit(0)\n",
    "                                                         ).otherwise(pl.col(\"cummin\"))\n",
    "                                           ).alias(\"cummin\"),\n",
    "            ).with_columns(                           \n",
    "                           (pl.col(\"cumsum\")-pl.col(\"cummin\")).alias(\"cumsum\"),\n",
    "            ).sort(\"inn_id\",\"date\"\n",
    "            ).with_columns(                           \n",
    "                           pl.col(\"cumsum\").shift(1).over(\"inn_id\").alias(\"cumsum\"),\n",
    "                  ).fill_null(0)\n",
    "\n",
    "inndatedk"
   ]
  },
  {
   "cell_type": "code",
   "execution_count": 12,
   "id": "adcf3723",
   "metadata": {},
   "outputs": [
    {
     "data": {
      "text/html": [
       "<div><style>\n",
       ".dataframe > thead > tr,\n",
       ".dataframe > tbody > tr {\n",
       "  text-align: right;\n",
       "  white-space: pre-wrap;\n",
       "}\n",
       "</style>\n",
       "<small>shape: (10, 8)</small><table border=\"1\" class=\"dataframe\"><thead><tr><th>inn_id</th><th>date</th><th>week</th><th>in_vtb_trns_amount</th><th>out_vtb_trns_amount</th><th>dkrez</th><th>cumsum</th><th>cummin</th></tr><tr><td>str</td><td>date</td><td>i8</td><td>f32</td><td>f32</td><td>f32</td><td>f32</td><td>f32</td></tr></thead><tbody><tr><td>&quot;inn1000051&quot;</td><td>2022-07-25</td><td>0</td><td>16515.076172</td><td>380510.625</td><td>-363995.5625</td><td>0.0</td><td>-363995.5625</td></tr><tr><td>&quot;inn1000051&quot;</td><td>2022-07-26</td><td>0</td><td>6251.666504</td><td>41648.703125</td><td>-35397.035156</td><td>0.0</td><td>-399392.59375</td></tr><tr><td>&quot;inn1000051&quot;</td><td>2022-07-27</td><td>0</td><td>0.0</td><td>0.0</td><td>0.0</td><td>0.0</td><td>-399392.59375</td></tr><tr><td>&quot;inn1000051&quot;</td><td>2022-07-28</td><td>0</td><td>0.0</td><td>0.0</td><td>0.0</td><td>0.0</td><td>-399392.59375</td></tr><tr><td>&quot;inn1000051&quot;</td><td>2022-07-29</td><td>0</td><td>13733.06543</td><td>0.0</td><td>13733.06543</td><td>0.0</td><td>-399392.59375</td></tr><tr><td>&quot;inn1000051&quot;</td><td>2022-07-30</td><td>0</td><td>0.0</td><td>0.0</td><td>0.0</td><td>13733.0625</td><td>-399392.59375</td></tr><tr><td>&quot;inn1000051&quot;</td><td>2022-07-31</td><td>0</td><td>0.0</td><td>0.0</td><td>0.0</td><td>13733.0625</td><td>-399392.59375</td></tr><tr><td>&quot;inn1000051&quot;</td><td>2022-08-01</td><td>1</td><td>30791.347656</td><td>1622.887451</td><td>29168.460938</td><td>13733.0625</td><td>-399392.59375</td></tr><tr><td>&quot;inn1000051&quot;</td><td>2022-08-02</td><td>1</td><td>281192.0625</td><td>0.0</td><td>281192.0625</td><td>42901.53125</td><td>-399392.59375</td></tr><tr><td>&quot;inn1000051&quot;</td><td>2022-08-03</td><td>1</td><td>0.0</td><td>0.0</td><td>0.0</td><td>324093.59375</td><td>-399392.59375</td></tr></tbody></table></div>"
      ],
      "text/plain": [
       "shape: (10, 8)\n",
       "┌────────────┬────────────┬──────┬─────────────┬────────────┬────────────┬────────────┬────────────┐\n",
       "│ inn_id     ┆ date       ┆ week ┆ in_vtb_trns ┆ out_vtb_tr ┆ dkrez      ┆ cumsum     ┆ cummin     │\n",
       "│ ---        ┆ ---        ┆ ---  ┆ _amount     ┆ ns_amount  ┆ ---        ┆ ---        ┆ ---        │\n",
       "│ str        ┆ date       ┆ i8   ┆ ---         ┆ ---        ┆ f32        ┆ f32        ┆ f32        │\n",
       "│            ┆            ┆      ┆ f32         ┆ f32        ┆            ┆            ┆            │\n",
       "╞════════════╪════════════╪══════╪═════════════╪════════════╪════════════╪════════════╪════════════╡\n",
       "│ inn1000051 ┆ 2022-07-25 ┆ 0    ┆ 16515.07617 ┆ 380510.625 ┆ -363995.56 ┆ 0.0        ┆ -363995.56 │\n",
       "│            ┆            ┆      ┆ 2           ┆            ┆ 25         ┆            ┆ 25         │\n",
       "│ inn1000051 ┆ 2022-07-26 ┆ 0    ┆ 6251.666504 ┆ 41648.7031 ┆ -35397.035 ┆ 0.0        ┆ -399392.59 │\n",
       "│            ┆            ┆      ┆             ┆ 25         ┆ 156        ┆            ┆ 375        │\n",
       "│ inn1000051 ┆ 2022-07-27 ┆ 0    ┆ 0.0         ┆ 0.0        ┆ 0.0        ┆ 0.0        ┆ -399392.59 │\n",
       "│            ┆            ┆      ┆             ┆            ┆            ┆            ┆ 375        │\n",
       "│ inn1000051 ┆ 2022-07-28 ┆ 0    ┆ 0.0         ┆ 0.0        ┆ 0.0        ┆ 0.0        ┆ -399392.59 │\n",
       "│            ┆            ┆      ┆             ┆            ┆            ┆            ┆ 375        │\n",
       "│ inn1000051 ┆ 2022-07-29 ┆ 0    ┆ 13733.06543 ┆ 0.0        ┆ 13733.0654 ┆ 0.0        ┆ -399392.59 │\n",
       "│            ┆            ┆      ┆             ┆            ┆ 3          ┆            ┆ 375        │\n",
       "│ inn1000051 ┆ 2022-07-30 ┆ 0    ┆ 0.0         ┆ 0.0        ┆ 0.0        ┆ 13733.0625 ┆ -399392.59 │\n",
       "│            ┆            ┆      ┆             ┆            ┆            ┆            ┆ 375        │\n",
       "│ inn1000051 ┆ 2022-07-31 ┆ 0    ┆ 0.0         ┆ 0.0        ┆ 0.0        ┆ 13733.0625 ┆ -399392.59 │\n",
       "│            ┆            ┆      ┆             ┆            ┆            ┆            ┆ 375        │\n",
       "│ inn1000051 ┆ 2022-08-01 ┆ 1    ┆ 30791.34765 ┆ 1622.88745 ┆ 29168.4609 ┆ 13733.0625 ┆ -399392.59 │\n",
       "│            ┆            ┆      ┆ 6           ┆ 1          ┆ 38         ┆            ┆ 375        │\n",
       "│ inn1000051 ┆ 2022-08-02 ┆ 1    ┆ 281192.0625 ┆ 0.0        ┆ 281192.062 ┆ 42901.5312 ┆ -399392.59 │\n",
       "│            ┆            ┆      ┆             ┆            ┆ 5          ┆ 5          ┆ 375        │\n",
       "│ inn1000051 ┆ 2022-08-03 ┆ 1    ┆ 0.0         ┆ 0.0        ┆ 0.0        ┆ 324093.593 ┆ -399392.59 │\n",
       "│            ┆            ┆      ┆             ┆            ┆            ┆ 75         ┆ 375        │\n",
       "└────────────┴────────────┴──────┴─────────────┴────────────┴────────────┴────────────┴────────────┘"
      ]
     },
     "execution_count": 12,
     "metadata": {},
     "output_type": "execute_result"
    }
   ],
   "source": [
    "inndatedk.head(10)"
   ]
  },
  {
   "cell_type": "code",
   "execution_count": 13,
   "id": "fcbb7350",
   "metadata": {},
   "outputs": [],
   "source": [
    "inndatedk.group_by(\"inn_id\",\"week\").agg(pl.col(\"cumsum\").first()).sort(\"inn_id\",\"week\").write_parquet(\"innweekstartsum.parquet\")"
   ]
  },
  {
   "cell_type": "code",
   "execution_count": 14,
   "id": "abab4b4e",
   "metadata": {},
   "outputs": [],
   "source": [
    "inndatedk.select(\"inn_id\",\"date\",\"cumsum\").write_parquet(\"inndatestartsum.parquet\")"
   ]
  },
  {
   "cell_type": "code",
   "execution_count": null,
   "id": "897b8e4f",
   "metadata": {},
   "outputs": [],
   "source": []
  },
  {
   "cell_type": "code",
   "execution_count": null,
   "id": "21c3c50f",
   "metadata": {},
   "outputs": [],
   "source": []
  }
 ],
 "metadata": {
  "kernelspec": {
   "display_name": "Python 3 (ipykernel)",
   "language": "python",
   "name": "python3"
  },
  "language_info": {
   "codemirror_mode": {
    "name": "ipython",
    "version": 3
   },
   "file_extension": ".py",
   "mimetype": "text/x-python",
   "name": "python",
   "nbconvert_exporter": "python",
   "pygments_lexer": "ipython3",
   "version": "3.10.15"
  }
 },
 "nbformat": 4,
 "nbformat_minor": 5
}
